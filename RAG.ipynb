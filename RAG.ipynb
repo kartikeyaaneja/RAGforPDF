{
 "cells": [
  {
   "cell_type": "markdown",
   "id": "9b790801-9759-4cb4-84f3-eeddf65598ad",
   "metadata": {
    "tags": []
   },
   "source": [
    "# RAG Implementation"
   ]
  },
  {
   "cell_type": "markdown",
   "id": "ae193347-762a-4f77-88c8-75bab211c232",
   "metadata": {},
   "source": [
    "Read from mongoDB database, perform semantic search on user query using cosine similarity "
   ]
  },
  {
   "cell_type": "code",
   "execution_count": 2,
   "id": "31b86548-6a26-4d72-9b80-df4c1c8c4cad",
   "metadata": {},
   "outputs": [],
   "source": [
    "import os\n",
    "import ast\n",
    "import json\n",
    "import openai\n",
    "import ollama\n",
    "import evaluate\n",
    "import pandas as pd\n",
    "import numpy as np\n",
    "\n",
    "from openai import OpenAI\n",
    "from transformers import pipeline\n",
    "from pymongo import MongoClient\n",
    "from FlagEmbedding import FlagReranker\n",
    "from sentence_transformers import SentenceTransformer\n",
    "from langchain.evaluation import load_evaluator\n",
    "\n",
    "from IPython.display import display, HTML\n",
    "\n",
    "from tqdm import tqdm"
   ]
  },
  {
   "cell_type": "code",
   "execution_count": 3,
   "id": "86be3055",
   "metadata": {},
   "outputs": [
    {
     "name": "stderr",
     "output_type": "stream",
     "text": [
      "You are using the default legacy behaviour of the <class 'transformers.models.t5.tokenization_t5.T5Tokenizer'>. This is expected, and simply means that the `legacy` (previous) behavior will be used so nothing changes for you. If you want to use the new behaviour, set `legacy=False`. This should only be set if you understand what it means, and thoroughly read the reason why this was added as explained in https://github.com/huggingface/transformers/pull/24565\n",
      "C:\\Users\\karti\\AppData\\Local\\Programs\\Python\\Python311\\Lib\\site-packages\\transformers\\tokenization_utils_base.py:1601: FutureWarning: `clean_up_tokenization_spaces` was not set. It will be set to `True` by default. This behavior will be depracted in transformers v4.45, and will be then set to `False` by default. For more details check this issue: https://github.com/huggingface/transformers/issues/31884\n",
      "  warnings.warn(\n",
      "Hardware accelerator e.g. GPU is available in the environment, but no `device` argument is passed to the `Pipeline` object. Model will be on CPU.\n"
     ]
    }
   ],
   "source": [
    "mcqInput = \"./datasets/mcqs_letter_answer.json\"\n",
    "mcqOutput = \"./data/mcqs_predicted.csv\"\n",
    "\n",
    "longInput = \"./datasets/longQA.json\"\n",
    "longOutput = \"./data/longQA_predicted.csv\"\n",
    "\n",
    "embedModelName = \"BAAI/bge-large-en-v1.5\"\n",
    "embedModel = SentenceTransformer(embedModelName)\n",
    "\n",
    "reRankModelName = \"BAAI/bge-reranker-large\"\n",
    "reRankModel = FlagReranker(reRankModelName, use_fp16=True)\n",
    "\n",
    "llmModelName = \"llama3.2\"\n",
    "\n",
    "rewriter = pipeline(\"text2text-generation\", model=\"castorini/t5-base-canard\")\n",
    "\n",
    "client = MongoClient(\"mongodb://localhost:27017/\")\n",
    "db = client[\"rag\"]"
   ]
  },
  {
   "cell_type": "markdown",
   "id": "bb877c18-a78a-40e8-9393-e40177c73f98",
   "metadata": {
    "tags": []
   },
   "source": [
    "## Retrieval Module"
   ]
  },
  {
   "cell_type": "code",
   "execution_count": 3,
   "id": "34d8bc11-4d8f-4655-8fb9-5fb057c85132",
   "metadata": {},
   "outputs": [],
   "source": [
    "def getTopN(queries, n=10, coll=\"doc\"):\n",
    "    \n",
    "    dfs = []\n",
    "    \n",
    "    for query in queries:\n",
    "        # Get embeddings of the query\n",
    "        queryEmbed = embedModel.encode(query, normalize_embeddings=True)\n",
    "\n",
    "        # Load the table holding the chunks embeddings\n",
    "        collection = db[coll]\n",
    "        data = list(collection.find())\n",
    "\n",
    "        for doc in data:\n",
    "            doc.pop('_id', None)\n",
    "\n",
    "        df = pd.DataFrame(data)\n",
    "\n",
    "        if n == -1:\n",
    "            n = len(df)\n",
    "\n",
    "        # Compute cosine similarity and return sorted DataFrame\n",
    "        df['cosine_similarity'] = df['embeddings'].apply(lambda x: np.dot(x, queryEmbed))\n",
    "        df_sorted = df.sort_values(by='cosine_similarity', ascending=False)\n",
    "        dfTop = df_sorted.head(n)\n",
    "        dfs.append(dfTop)\n",
    "        \n",
    "    # Combine 3 dfs of each query's cosine similarity search, remove duplicates and return\n",
    "    combined_df = pd.concat(dfs, ignore_index=True).drop_duplicates(subset=[\"Chunks\", \"PageNo\"])\n",
    "    \n",
    "    return combined_df"
   ]
  },
  {
   "cell_type": "markdown",
   "id": "4c1332ac-bc9b-4719-99ab-e10aea71f314",
   "metadata": {
    "tags": []
   },
   "source": [
    "## Re Rank Module"
   ]
  },
  {
   "cell_type": "code",
   "execution_count": 4,
   "id": "d8b0a945-cb46-445b-a24e-65cd6b455f95",
   "metadata": {},
   "outputs": [],
   "source": [
    "def reRank(query, df):\n",
    "    # Compute a score for each chunk based on the contents of the chunk and query\n",
    "    rankMatches = [[query, df[\"Chunks\"].iloc[idx]] for idx in range(len(df))]\n",
    "    scores = reRankModel.compute_score(rankMatches)\n",
    "    df[\"rerank_score\"] = scores\n",
    "    \n",
    "    # Remove scores less than 0 and return sorted DataFrame\n",
    "    df = df[df[\"rerank_score\"] > 0]\n",
    "    df = df.sort_values(by=\"rerank_score\", ascending=False)\n",
    "\n",
    "    return df"
   ]
  },
  {
   "cell_type": "markdown",
   "id": "437198c4-48fe-4be8-95a1-b18c0851c7f0",
   "metadata": {
    "tags": []
   },
   "source": [
    "## Generation"
   ]
  },
  {
   "cell_type": "code",
   "execution_count": 5,
   "id": "a501a7fb-9096-4270-85b5-e80cb896c3fd",
   "metadata": {},
   "outputs": [],
   "source": [
    "def getLLMAns(query, df, llmModelName, llmInstructions, verbose=False):\n",
    "  \n",
    "    # Putting all the chunks in one string to pass to prompt\n",
    "    allChunkText = \"\"\n",
    "    for idx in range(len(df)):\n",
    "        score = df[\"rerank_score\"].iloc[idx]\n",
    "        chunk = df[\"Chunks\"].iloc[idx]\n",
    "        allChunkText += f\"Information {idx}: {chunk}\\n\\n\"\n",
    "        \n",
    "    prompt = f\"\"\"\\\n",
    "    {llmInstructions}\n",
    "    \n",
    "    Using this information:\n",
    "    {allChunkText}\n",
    "    \n",
    "    Answer this Question:\n",
    "    {query}\n",
    "    \"\"\"\n",
    "    if verbose:\n",
    "        print(prompt)\n",
    "\n",
    "\n",
    "    messages = [\n",
    "        {\n",
    "            \"role\": \"system\",\n",
    "            \"content\": llmInstructions\n",
    "        },\n",
    "        {\n",
    "            \"role\": \"user\",\n",
    "            \"content\": prompt\n",
    "        }\n",
    "    ]\n",
    "    \n",
    "    # Use openai library for GPT LLM if openai key exists in enviornment\n",
    "    if \"gpt-\" in llmModelName:\n",
    "        if os.getenv(\"OPENAI_API_KEY\") is None:\n",
    "            return \"\"\n",
    "        \n",
    "        response = openai.chat.completions.create(\n",
    "            model=llmModelName,\n",
    "            messages=messages,\n",
    "            temperature=0\n",
    "        )\n",
    "        ans = response.choices[0].message.content.strip()\n",
    "    else:\n",
    "        llmOut = ollama.chat(\n",
    "            model=llmModelName,\n",
    "            messages=messages,\n",
    "            options={\n",
    "              \"temperature\": 0\n",
    "            }\n",
    "        )\n",
    "        ans = llmOut[\"message\"][\"content\"]\n",
    "    \n",
    "    # Remove think tag for reasoning model (deepseek-r1)\n",
    "    tag = \"</think>\"\n",
    "    idx = ans.find(tag)\n",
    "    if idx != -1:\n",
    "        return ans[idx + len(tag):].strip()\n",
    "    \n",
    "    return ans"
   ]
  },
  {
   "cell_type": "markdown",
   "id": "d85af6ba-6825-40a8-bf04-9aae3d310269",
   "metadata": {},
   "source": [
    "## Query Rewriting and Query Expansion"
   ]
  },
  {
   "cell_type": "code",
   "execution_count": 6,
   "id": "ea104a95-5bbd-48ab-8716-3d713f475421",
   "metadata": {},
   "outputs": [],
   "source": [
    "def reWriteExpander(query, mcq=False, llmModelName=\"llama3.2\"):\n",
    "    # Default to llama3.2 just for expansion if GPT requested \n",
    "    if \"gpt-\" in llmModelName:\n",
    "        llmModelName=\"llama3.2\"\n",
    "    \n",
    "    # Separate options from question if MCQ\n",
    "    if mcq:\n",
    "        lines = query.strip().split('\\n')\n",
    "        query = lines[0].strip()\n",
    "        opts = \"\".join(lines[1:])   \n",
    "        \n",
    "        \n",
    "    # ReWriter Model from HuggingFace\n",
    "    rewritten_input = f\"{query}\"\n",
    "    rewritten_query = rewriter(rewritten_input, max_length=64, clean_up_tokenization_spaces=True)[0]['generated_text']\n",
    "    \n",
    "    # Generate 2 more queries surrounding the context\n",
    "    prompt = f\"\"\"\n",
    "    Given the query: \"{rewritten_query}\"\n",
    "    Generate 2 contextually related queries:\n",
    "    A broader version of the query\n",
    "    A more specific version of the query\n",
    "    \n",
    "    Format the output as a Python dictionary with keys: \"broader\", \"narrower\".\\  \n",
    "    \n",
    "    \"\"\"\n",
    "    \n",
    "    messages = [\n",
    "        {\n",
    "            \"role\": \"system\",\n",
    "            \"content\": \"You are a helpful assistant that generates contextual queries.\"\n",
    "        },\n",
    "        {\n",
    "            \"role\": \"user\",\n",
    "            \"content\": prompt\n",
    "        }\n",
    "    ]\n",
    "    \n",
    "    llmOut = ollama.chat(\n",
    "        model=llmModelName,\n",
    "        messages=messages,\n",
    "        options={\n",
    "          \"temperature\": 0\n",
    "        }\n",
    "    )\n",
    "    ans = llmOut[\"message\"][\"content\"]\n",
    "    \n",
    "    # If the LLM returned the correct format return all 3 queries or if not just return rewritten query\n",
    "    try:\n",
    "        query_dict = ast.literal_eval(ans.strip())\n",
    "        broader = query_dict.get(\"broader\", \"\").strip()\n",
    "        narrower = query_dict.get(\"narrower\", \"\").strip()\n",
    "        \n",
    "        retList = [rewritten_query, broader, narrower]\n",
    "    except (SyntaxError, ValueError):\n",
    "        retList = [rewritten_query]\n",
    "    \n",
    "    # Add removed options back\n",
    "    if mcq:\n",
    "        retList = [i+opts for i in retList]\n",
    "\n",
    "    return retList"
   ]
  },
  {
   "cell_type": "markdown",
   "id": "b5a96592-ecfd-4cd6-a209-0985c776b920",
   "metadata": {
    "tags": []
   },
   "source": [
    "## Full Pipeline"
   ]
  },
  {
   "cell_type": "code",
   "execution_count": 7,
   "id": "3b23a6d7-0635-46d0-befe-bf08f9f9a3eb",
   "metadata": {},
   "outputs": [],
   "source": [
    "def answer(query, mcq=False, n=10, coll=\"doc\", llmModelName=\"llama3.2\", htmlOut=[]):\n",
    "    # Different system instructions and prompt if MCQs\n",
    "    if mcq:\n",
    "        llmInstructions = \"\"\"\n",
    "        Using ONLY the provided information, answer the following multiple-choice question.\\\n",
    "        If the answer is not present in the information, reply with:\\\n",
    "        \"Answer not in given information\"\n",
    "        Return ONLY the letter corresponding to the correct option (A, B, C, D) — DO NOT include explanation or any other text.\\\n",
    "        \"\"\"\n",
    "    else:\n",
    "        llmInstructions = \"\"\"\n",
    "        Using ONLY the provided information, answer the question.\\\n",
    "        If the answer is not present in the information, reply with:\\\n",
    "        \"Answer not in given information\"\n",
    "        \"\"\"\n",
    "    \n",
    "    # ReWrite and expand and select rewritten query as main query\n",
    "    queries = reWriteExpander(query, mcq=mcq, llmModelName=llmModelName)\n",
    "    query = queries[0]\n",
    "  \n",
    "    # Pipeline to get topN, rerank and get LLM answer\n",
    "    qdf = getTopN(queries, n, coll)\n",
    "    qdf = reRank(query, qdf)\n",
    "    ans = getLLMAns(query=query, df=qdf, llmModelName=llmModelName, llmInstructions=llmInstructions)\n",
    "    \n",
    "    # Add a reference to the page number if not a MCQ\n",
    "    if not mcq:\n",
    "        # Chunk contains an image where image path is not NaN\n",
    "        texts = qdf[qdf[\"imagePath\"].isna()]\n",
    "        imgs = qdf[qdf[\"imagePath\"].notna()]\n",
    "        \n",
    "        if len(texts) > 0:\n",
    "            # Page Numbers of all text references in a string\n",
    "            refs = [str(i) for i in texts[\"PageNo\"].tolist()]\n",
    "            refsCont = \", \".join(refs)\n",
    "            ans += f\"\\n\\nThis answer was generated using the text references on page(s): {refsCont}\"\n",
    "            \n",
    "        if len(imgs) > 0:\n",
    "            # Page Numbers of all image references in a string\n",
    "            refs = [str(i) for i in imgs[\"PageNo\"].tolist()]\n",
    "            refsCont = \", \".join(refs)\n",
    "            ans += f\"\\n\\nThis answer was generated using the image references on page(s): {refsCont}\"\n",
    "            \n",
    "            # Optional output if passed by reference: URL String for links to all images\n",
    "            paths = imgs[\"imagePath\"].tolist()\n",
    "            urls = [i.replace(\"\\\\\", \"/\") for i in paths]  # Replace backslashes with forward slashes for URLs\n",
    "            html_links = [f'<a href=\"{url}\" target=\"_blank\">img-page{refs[i]}</a>' for i, url in enumerate(urls)]\n",
    "            html_output = \" \".join(html_links)\n",
    "            htmlOut.append(HTML(f\"\\nClick to view the images used: {html_output}\"))\n",
    "    \n",
    "    return ans"
   ]
  },
  {
   "cell_type": "markdown",
   "id": "3f69aca7-194a-45de-9614-904f0437a99a",
   "metadata": {
    "tags": []
   },
   "source": [
    "## Model Evaluation"
   ]
  },
  {
   "cell_type": "markdown",
   "id": "c779dbcf-2db3-41ae-abbd-2f71c1ad5b53",
   "metadata": {},
   "source": [
    "Extract letter from LLM Output"
   ]
  },
  {
   "cell_type": "code",
   "execution_count": 8,
   "id": "7c651dc8-db51-41d0-8e75-b79b40b36f98",
   "metadata": {},
   "outputs": [],
   "source": [
    "def extract_letter(value):\n",
    "    # Even though prompt is strict for MCQs sometimes LLM gives surrounding text\n",
    "    # Function to extract LLM's predicted option from generated answer\n",
    "    \n",
    "    if pd.isna(value) or len(value) == 0:\n",
    "        return \"X\"\n",
    "    elif len(value) == 1:\n",
    "        return value\n",
    "    else:\n",
    "        match = pd.Series(value).str.extract(r'([A-Za-z])\\)')[0]\n",
    "        return match[0] if pd.notna(match[0]) else \"X\""
   ]
  },
  {
   "cell_type": "markdown",
   "id": "ee2b5b11-e29c-4445-b04f-fe72afab484d",
   "metadata": {
    "tags": []
   },
   "source": [
    "### 50 Deepseek generated pHD Level MCQs for accuracy"
   ]
  },
  {
   "cell_type": "code",
   "execution_count": 9,
   "id": "861bfa41",
   "metadata": {},
   "outputs": [
    {
     "data": {
      "text/html": [
       "<div>\n",
       "<style scoped>\n",
       "    .dataframe tbody tr th:only-of-type {\n",
       "        vertical-align: middle;\n",
       "    }\n",
       "\n",
       "    .dataframe tbody tr th {\n",
       "        vertical-align: top;\n",
       "    }\n",
       "\n",
       "    .dataframe thead th {\n",
       "        text-align: right;\n",
       "    }\n",
       "</style>\n",
       "<table border=\"1\" class=\"dataframe\">\n",
       "  <thead>\n",
       "    <tr style=\"text-align: right;\">\n",
       "      <th></th>\n",
       "      <th>query</th>\n",
       "      <th>expected</th>\n",
       "      <th>predicted-gpt-3.5-turbo</th>\n",
       "      <th>predicted-gpt-3.5-turbo-letter</th>\n",
       "      <th>predicted-llama3.2</th>\n",
       "      <th>predicted-llama3.2-letter</th>\n",
       "      <th>predicted-deepseek-llm</th>\n",
       "      <th>predicted-deepseek-llm-letter</th>\n",
       "    </tr>\n",
       "  </thead>\n",
       "  <tbody>\n",
       "    <tr>\n",
       "      <th>0</th>\n",
       "      <td>What is the primary objective of the Capital W...</td>\n",
       "      <td>B</td>\n",
       "      <td>B</td>\n",
       "      <td>B</td>\n",
       "      <td>B</td>\n",
       "      <td>B</td>\n",
       "      <td>B) To ensure cost certainty, better value for ...</td>\n",
       "      <td>B</td>\n",
       "    </tr>\n",
       "    <tr>\n",
       "      <th>1</th>\n",
       "      <td>Under the new Public Works Contracts, who is r...</td>\n",
       "      <td>B</td>\n",
       "      <td>B</td>\n",
       "      <td>B</td>\n",
       "      <td>A</td>\n",
       "      <td>A</td>\n",
       "      <td>A) The Contractor</td>\n",
       "      <td>A</td>\n",
       "    </tr>\n",
       "    <tr>\n",
       "      <th>2</th>\n",
       "      <td>Which of the following is NOT a key change int...</td>\n",
       "      <td>C</td>\n",
       "      <td>B</td>\n",
       "      <td>B</td>\n",
       "      <td>D</td>\n",
       "      <td>D</td>\n",
       "      <td>D) Fixed-price lump sum contracts</td>\n",
       "      <td>D</td>\n",
       "    </tr>\n",
       "    <tr>\n",
       "      <th>3</th>\n",
       "      <td>What is the purpose of Programme Contingency?\\...</td>\n",
       "      <td>B</td>\n",
       "      <td>B</td>\n",
       "      <td>B</td>\n",
       "      <td>B</td>\n",
       "      <td>B</td>\n",
       "      <td>D</td>\n",
       "      <td>D</td>\n",
       "    </tr>\n",
       "    <tr>\n",
       "      <th>4</th>\n",
       "      <td>In the new contracts, what replaces the role o...</td>\n",
       "      <td>B</td>\n",
       "      <td>B</td>\n",
       "      <td>B</td>\n",
       "      <td>B</td>\n",
       "      <td>B</td>\n",
       "      <td>B) Specialists</td>\n",
       "      <td>B</td>\n",
       "    </tr>\n",
       "  </tbody>\n",
       "</table>\n",
       "</div>"
      ],
      "text/plain": [
       "                                               query expected  \\\n",
       "0  What is the primary objective of the Capital W...        B   \n",
       "1  Under the new Public Works Contracts, who is r...        B   \n",
       "2  Which of the following is NOT a key change int...        C   \n",
       "3  What is the purpose of Programme Contingency?\\...        B   \n",
       "4  In the new contracts, what replaces the role o...        B   \n",
       "\n",
       "  predicted-gpt-3.5-turbo predicted-gpt-3.5-turbo-letter predicted-llama3.2  \\\n",
       "0                       B                              B                  B   \n",
       "1                       B                              B                  A   \n",
       "2                       B                              B                  D   \n",
       "3                       B                              B                  B   \n",
       "4                       B                              B                  B   \n",
       "\n",
       "  predicted-llama3.2-letter  \\\n",
       "0                         B   \n",
       "1                         A   \n",
       "2                         D   \n",
       "3                         B   \n",
       "4                         B   \n",
       "\n",
       "                              predicted-deepseek-llm  \\\n",
       "0  B) To ensure cost certainty, better value for ...   \n",
       "1                                  A) The Contractor   \n",
       "2                  D) Fixed-price lump sum contracts   \n",
       "3                                                  D   \n",
       "4                                     B) Specialists   \n",
       "\n",
       "  predicted-deepseek-llm-letter  \n",
       "0                             B  \n",
       "1                             A  \n",
       "2                             D  \n",
       "3                             D  \n",
       "4                             B  "
      ]
     },
     "execution_count": 9,
     "metadata": {},
     "output_type": "execute_result"
    }
   ],
   "source": [
    "# Load already evaluated results if they exist\n",
    "if os.path.exists(mcqOutput):\n",
    "    qs = pd.read_csv(mcqOutput)\n",
    "else:  \n",
    "    qs = pd.read_json(mcqInput)\n",
    "\n",
    "qs.head(5)"
   ]
  },
  {
   "cell_type": "code",
   "execution_count": 10,
   "id": "fa89e5e7",
   "metadata": {},
   "outputs": [],
   "source": [
    "# Different LLMs to test\n",
    "testModels = [\"gpt-3.5-turbo\", \"deepseek-llm\", \"llama3.2\"]"
   ]
  },
  {
   "cell_type": "code",
   "execution_count": 11,
   "id": "f112e222-0ebf-4c65-9a0e-29a8f948f0ad",
   "metadata": {
    "tags": []
   },
   "outputs": [],
   "source": [
    "for model in testModels:  \n",
    "    colName = f\"predicted-{model}\"\n",
    "    colLetterName = f\"predicted-{model}-letter\"\n",
    "  \n",
    "    # Only run the model if not already run before\n",
    "    if colName in qs:\n",
    "        continue\n",
    "  \n",
    "    answers = []\n",
    "    # Run with tqdm to show progress bar and time per query\n",
    "    for i in tqdm(range(len(qs)), desc=\"Processing queries\"):\n",
    "        query = qs[\"query\"].iloc[i]\n",
    "        ans = answer(query, mcq=True, llmModelName=model)\n",
    "        answers.append(ans)\n",
    "      \n",
    "    # Save results to dataframe\n",
    "    qs[colName] = answers\n",
    "    qs[colLetterName] = qs[colName].apply(extract_letter)"
   ]
  },
  {
   "cell_type": "code",
   "execution_count": 12,
   "id": "8df96991",
   "metadata": {},
   "outputs": [
    {
     "data": {
      "text/html": [
       "<div>\n",
       "<style scoped>\n",
       "    .dataframe tbody tr th:only-of-type {\n",
       "        vertical-align: middle;\n",
       "    }\n",
       "\n",
       "    .dataframe tbody tr th {\n",
       "        vertical-align: top;\n",
       "    }\n",
       "\n",
       "    .dataframe thead th {\n",
       "        text-align: right;\n",
       "    }\n",
       "</style>\n",
       "<table border=\"1\" class=\"dataframe\">\n",
       "  <thead>\n",
       "    <tr style=\"text-align: right;\">\n",
       "      <th></th>\n",
       "      <th>query</th>\n",
       "      <th>expected</th>\n",
       "      <th>predicted-gpt-3.5-turbo</th>\n",
       "      <th>predicted-gpt-3.5-turbo-letter</th>\n",
       "      <th>predicted-llama3.2</th>\n",
       "      <th>predicted-llama3.2-letter</th>\n",
       "      <th>predicted-deepseek-llm</th>\n",
       "      <th>predicted-deepseek-llm-letter</th>\n",
       "    </tr>\n",
       "  </thead>\n",
       "  <tbody>\n",
       "    <tr>\n",
       "      <th>0</th>\n",
       "      <td>What is the primary objective of the Capital W...</td>\n",
       "      <td>B</td>\n",
       "      <td>B</td>\n",
       "      <td>B</td>\n",
       "      <td>B</td>\n",
       "      <td>B</td>\n",
       "      <td>B) To ensure cost certainty, better value for ...</td>\n",
       "      <td>B</td>\n",
       "    </tr>\n",
       "    <tr>\n",
       "      <th>1</th>\n",
       "      <td>Under the new Public Works Contracts, who is r...</td>\n",
       "      <td>B</td>\n",
       "      <td>B</td>\n",
       "      <td>B</td>\n",
       "      <td>A</td>\n",
       "      <td>A</td>\n",
       "      <td>A) The Contractor</td>\n",
       "      <td>A</td>\n",
       "    </tr>\n",
       "    <tr>\n",
       "      <th>2</th>\n",
       "      <td>Which of the following is NOT a key change int...</td>\n",
       "      <td>C</td>\n",
       "      <td>B</td>\n",
       "      <td>B</td>\n",
       "      <td>D</td>\n",
       "      <td>D</td>\n",
       "      <td>D) Fixed-price lump sum contracts</td>\n",
       "      <td>D</td>\n",
       "    </tr>\n",
       "    <tr>\n",
       "      <th>3</th>\n",
       "      <td>What is the purpose of Programme Contingency?\\...</td>\n",
       "      <td>B</td>\n",
       "      <td>B</td>\n",
       "      <td>B</td>\n",
       "      <td>B</td>\n",
       "      <td>B</td>\n",
       "      <td>D</td>\n",
       "      <td>D</td>\n",
       "    </tr>\n",
       "    <tr>\n",
       "      <th>4</th>\n",
       "      <td>In the new contracts, what replaces the role o...</td>\n",
       "      <td>B</td>\n",
       "      <td>B</td>\n",
       "      <td>B</td>\n",
       "      <td>B</td>\n",
       "      <td>B</td>\n",
       "      <td>B) Specialists</td>\n",
       "      <td>B</td>\n",
       "    </tr>\n",
       "  </tbody>\n",
       "</table>\n",
       "</div>"
      ],
      "text/plain": [
       "                                               query expected  \\\n",
       "0  What is the primary objective of the Capital W...        B   \n",
       "1  Under the new Public Works Contracts, who is r...        B   \n",
       "2  Which of the following is NOT a key change int...        C   \n",
       "3  What is the purpose of Programme Contingency?\\...        B   \n",
       "4  In the new contracts, what replaces the role o...        B   \n",
       "\n",
       "  predicted-gpt-3.5-turbo predicted-gpt-3.5-turbo-letter predicted-llama3.2  \\\n",
       "0                       B                              B                  B   \n",
       "1                       B                              B                  A   \n",
       "2                       B                              B                  D   \n",
       "3                       B                              B                  B   \n",
       "4                       B                              B                  B   \n",
       "\n",
       "  predicted-llama3.2-letter  \\\n",
       "0                         B   \n",
       "1                         A   \n",
       "2                         D   \n",
       "3                         B   \n",
       "4                         B   \n",
       "\n",
       "                              predicted-deepseek-llm  \\\n",
       "0  B) To ensure cost certainty, better value for ...   \n",
       "1                                  A) The Contractor   \n",
       "2                  D) Fixed-price lump sum contracts   \n",
       "3                                                  D   \n",
       "4                                     B) Specialists   \n",
       "\n",
       "  predicted-deepseek-llm-letter  \n",
       "0                             B  \n",
       "1                             A  \n",
       "2                             D  \n",
       "3                             D  \n",
       "4                             B  "
      ]
     },
     "execution_count": 12,
     "metadata": {},
     "output_type": "execute_result"
    }
   ],
   "source": [
    "qs.head(5)"
   ]
  },
  {
   "cell_type": "code",
   "execution_count": 13,
   "id": "17b79aba",
   "metadata": {},
   "outputs": [],
   "source": [
    "# Save to output so dont have to run models again\n",
    "qs.to_csv(mcqOutput, index=False)"
   ]
  },
  {
   "cell_type": "markdown",
   "id": "1f68b0be-9529-4e79-bf09-c4546aebcbb7",
   "metadata": {},
   "source": [
    "#### Accuracy of each Model"
   ]
  },
  {
   "cell_type": "code",
   "execution_count": 14,
   "id": "eef3633a",
   "metadata": {},
   "outputs": [
    {
     "name": "stdout",
     "output_type": "stream",
     "text": [
      "gpt-3.5-turbo: 0.84\n",
      "deepseek-llm: 0.5\n",
      "llama3.2: 0.76\n"
     ]
    }
   ],
   "source": [
    "for model in testModels:  \n",
    "    colName = f\"predicted-{model}\"\n",
    "    colLetterName = f\"predicted-{model}-letter\"\n",
    "\n",
    "    print(f\"{model}:\", (qs[\"expected\"] == qs[colLetterName]).sum()/len(qs))"
   ]
  },
  {
   "cell_type": "code",
   "execution_count": 15,
   "id": "380918a4-0ac3-4280-933b-41a747dd743f",
   "metadata": {},
   "outputs": [],
   "source": [
    "#assert False"
   ]
  },
  {
   "cell_type": "markdown",
   "id": "35903576-d402-42b3-a566-e0bd6bea8f8b",
   "metadata": {
    "tags": []
   },
   "source": [
    "### GPT generated questions (not MCQs)"
   ]
  },
  {
   "cell_type": "code",
   "execution_count": 16,
   "id": "f6f5b2be-d1cc-4a71-988f-7492cd1824f5",
   "metadata": {},
   "outputs": [
    {
     "data": {
      "text/html": [
       "<div>\n",
       "<style scoped>\n",
       "    .dataframe tbody tr th:only-of-type {\n",
       "        vertical-align: middle;\n",
       "    }\n",
       "\n",
       "    .dataframe tbody tr th {\n",
       "        vertical-align: top;\n",
       "    }\n",
       "\n",
       "    .dataframe thead th {\n",
       "        text-align: right;\n",
       "    }\n",
       "</style>\n",
       "<table border=\"1\" class=\"dataframe\">\n",
       "  <thead>\n",
       "    <tr style=\"text-align: right;\">\n",
       "      <th></th>\n",
       "      <th>Query</th>\n",
       "      <th>Expected</th>\n",
       "      <th>Predicted</th>\n",
       "      <th>LevenshtienSimilarity</th>\n",
       "    </tr>\n",
       "  </thead>\n",
       "  <tbody>\n",
       "    <tr>\n",
       "      <th>0</th>\n",
       "      <td>What are the two main categories of public cap...</td>\n",
       "      <td>The two main categories of public capital work...</td>\n",
       "      <td>The two main categories of public capital work...</td>\n",
       "      <td>0.155861</td>\n",
       "    </tr>\n",
       "    <tr>\n",
       "      <th>1</th>\n",
       "      <td>What are Delay Events and Compensation Events ...</td>\n",
       "      <td>Delay Events are events that are not at the co...</td>\n",
       "      <td>Delay events refer to instances when work on a...</td>\n",
       "      <td>0.339820</td>\n",
       "    </tr>\n",
       "    <tr>\n",
       "      <th>2</th>\n",
       "      <td>What are the key structural components of the ...</td>\n",
       "      <td>The structure includes: 1. Letter of Acceptanc...</td>\n",
       "      <td>The key structural components of the new publi...</td>\n",
       "      <td>0.432940</td>\n",
       "    </tr>\n",
       "    <tr>\n",
       "      <th>3</th>\n",
       "      <td>What is the purpose of Programme Contingency i...</td>\n",
       "      <td>Programme Contingency is a specified delay per...</td>\n",
       "      <td>The provided information does not mention anyt...</td>\n",
       "      <td>0.323719</td>\n",
       "    </tr>\n",
       "    <tr>\n",
       "      <th>4</th>\n",
       "      <td>Under what circumstances can a Contracting Aut...</td>\n",
       "      <td>A Contracting Authority can allocate this risk...</td>\n",
       "      <td>A Contracting Authority can allocate the risk ...</td>\n",
       "      <td>0.324441</td>\n",
       "    </tr>\n",
       "  </tbody>\n",
       "</table>\n",
       "</div>"
      ],
      "text/plain": [
       "                                               Query  \\\n",
       "0  What are the two main categories of public cap...   \n",
       "1  What are Delay Events and Compensation Events ...   \n",
       "2  What are the key structural components of the ...   \n",
       "3  What is the purpose of Programme Contingency i...   \n",
       "4  Under what circumstances can a Contracting Aut...   \n",
       "\n",
       "                                            Expected  \\\n",
       "0  The two main categories of public capital work...   \n",
       "1  Delay Events are events that are not at the co...   \n",
       "2  The structure includes: 1. Letter of Acceptanc...   \n",
       "3  Programme Contingency is a specified delay per...   \n",
       "4  A Contracting Authority can allocate this risk...   \n",
       "\n",
       "                                           Predicted  LevenshtienSimilarity  \n",
       "0  The two main categories of public capital work...               0.155861  \n",
       "1  Delay events refer to instances when work on a...               0.339820  \n",
       "2  The key structural components of the new publi...               0.432940  \n",
       "3  The provided information does not mention anyt...               0.323719  \n",
       "4  A Contracting Authority can allocate the risk ...               0.324441  "
      ]
     },
     "execution_count": 16,
     "metadata": {},
     "output_type": "execute_result"
    }
   ],
   "source": [
    "# Load output if already exists\n",
    "if os.path.exists(longOutput):\n",
    "    df = pd.read_csv(longOutput)\n",
    "else:  \n",
    "    df = pd.read_json(longInput)\n",
    "    \n",
    "df.head(5)"
   ]
  },
  {
   "cell_type": "markdown",
   "id": "b172fd53-5eb8-439a-ad79-457e68f5e03f",
   "metadata": {
    "tags": []
   },
   "source": [
    "#### Levenshtien Similarity"
   ]
  },
  {
   "cell_type": "code",
   "execution_count": 17,
   "id": "6fa85b07-7902-4b5f-93c9-025160910d74",
   "metadata": {
    "tags": []
   },
   "outputs": [
    {
     "data": {
      "text/html": [
       "<div>\n",
       "<style scoped>\n",
       "    .dataframe tbody tr th:only-of-type {\n",
       "        vertical-align: middle;\n",
       "    }\n",
       "\n",
       "    .dataframe tbody tr th {\n",
       "        vertical-align: top;\n",
       "    }\n",
       "\n",
       "    .dataframe thead th {\n",
       "        text-align: right;\n",
       "    }\n",
       "</style>\n",
       "<table border=\"1\" class=\"dataframe\">\n",
       "  <thead>\n",
       "    <tr style=\"text-align: right;\">\n",
       "      <th></th>\n",
       "      <th>Query</th>\n",
       "      <th>Expected</th>\n",
       "      <th>Predicted</th>\n",
       "      <th>LevenshtienSimilarity</th>\n",
       "    </tr>\n",
       "  </thead>\n",
       "  <tbody>\n",
       "    <tr>\n",
       "      <th>0</th>\n",
       "      <td>What are the two main categories of public cap...</td>\n",
       "      <td>The two main categories of public capital work...</td>\n",
       "      <td>The two main categories of public capital work...</td>\n",
       "      <td>0.155861</td>\n",
       "    </tr>\n",
       "    <tr>\n",
       "      <th>1</th>\n",
       "      <td>What are Delay Events and Compensation Events ...</td>\n",
       "      <td>Delay Events are events that are not at the co...</td>\n",
       "      <td>Delay events refer to instances when work on a...</td>\n",
       "      <td>0.339820</td>\n",
       "    </tr>\n",
       "    <tr>\n",
       "      <th>2</th>\n",
       "      <td>What are the key structural components of the ...</td>\n",
       "      <td>The structure includes: 1. Letter of Acceptanc...</td>\n",
       "      <td>The key structural components of the new publi...</td>\n",
       "      <td>0.432940</td>\n",
       "    </tr>\n",
       "    <tr>\n",
       "      <th>3</th>\n",
       "      <td>What is the purpose of Programme Contingency i...</td>\n",
       "      <td>Programme Contingency is a specified delay per...</td>\n",
       "      <td>The provided information does not mention anyt...</td>\n",
       "      <td>0.323719</td>\n",
       "    </tr>\n",
       "    <tr>\n",
       "      <th>4</th>\n",
       "      <td>Under what circumstances can a Contracting Aut...</td>\n",
       "      <td>A Contracting Authority can allocate this risk...</td>\n",
       "      <td>A Contracting Authority can allocate the risk ...</td>\n",
       "      <td>0.324441</td>\n",
       "    </tr>\n",
       "  </tbody>\n",
       "</table>\n",
       "</div>"
      ],
      "text/plain": [
       "                                               Query  \\\n",
       "0  What are the two main categories of public cap...   \n",
       "1  What are Delay Events and Compensation Events ...   \n",
       "2  What are the key structural components of the ...   \n",
       "3  What is the purpose of Programme Contingency i...   \n",
       "4  Under what circumstances can a Contracting Aut...   \n",
       "\n",
       "                                            Expected  \\\n",
       "0  The two main categories of public capital work...   \n",
       "1  Delay Events are events that are not at the co...   \n",
       "2  The structure includes: 1. Letter of Acceptanc...   \n",
       "3  Programme Contingency is a specified delay per...   \n",
       "4  A Contracting Authority can allocate this risk...   \n",
       "\n",
       "                                           Predicted  LevenshtienSimilarity  \n",
       "0  The two main categories of public capital work...               0.155861  \n",
       "1  Delay events refer to instances when work on a...               0.339820  \n",
       "2  The key structural components of the new publi...               0.432940  \n",
       "3  The provided information does not mention anyt...               0.323719  \n",
       "4  A Contracting Authority can allocate the risk ...               0.324441  "
      ]
     },
     "execution_count": 17,
     "metadata": {},
     "output_type": "execute_result"
    }
   ],
   "source": [
    "# Run queries if not ran before\n",
    "if \"Predicted\" not in df:\n",
    "    df[\"Predicted\"] = df[\"Query\"].apply(lambda q: answer(q, mcq=False))\n",
    "\n",
    "df.head(5)"
   ]
  },
  {
   "cell_type": "code",
   "execution_count": 18,
   "id": "9afa150e-dbdb-4fd3-a42c-a5aa6901d615",
   "metadata": {},
   "outputs": [],
   "source": [
    "# Calculate Langchain's Levenshtien Similarity score if not already done \n",
    "if \"LevenshtienSimilarity\" not in df:\n",
    "    evaluator = load_evaluator(\"string_distance\")\n",
    "\n",
    "    examples = df[[\"Query\", \"Expected\"]].rename(columns={\"Query\": \"input\", \"Expected\": \"ideal\"})\n",
    "    predictions = df[\"Predicted\"].tolist()\n",
    "\n",
    "    results = []\n",
    "    for example, prediction in zip(examples.to_dict(orient=\"records\"), predictions):\n",
    "        result = evaluator.evaluate_strings(\n",
    "            prediction=prediction,\n",
    "            reference=example[\"ideal\"]\n",
    "        )\n",
    "        results.append(result)\n",
    "\n",
    "    df[\"LevenshtienSimilarity\"] = [r[\"score\"] for r in results]"
   ]
  },
  {
   "cell_type": "code",
   "execution_count": 19,
   "id": "1b25f4a4-c450-419a-833d-b719f30e1728",
   "metadata": {},
   "outputs": [],
   "source": [
    "# Save results\n",
    "df.to_csv(longOutput, index=False)"
   ]
  },
  {
   "cell_type": "code",
   "execution_count": 20,
   "id": "7f56cc84-cc01-4a55-adbc-aa0c01f21ea8",
   "metadata": {},
   "outputs": [
    {
     "data": {
      "text/html": [
       "<div>\n",
       "<style scoped>\n",
       "    .dataframe tbody tr th:only-of-type {\n",
       "        vertical-align: middle;\n",
       "    }\n",
       "\n",
       "    .dataframe tbody tr th {\n",
       "        vertical-align: top;\n",
       "    }\n",
       "\n",
       "    .dataframe thead th {\n",
       "        text-align: right;\n",
       "    }\n",
       "</style>\n",
       "<table border=\"1\" class=\"dataframe\">\n",
       "  <thead>\n",
       "    <tr style=\"text-align: right;\">\n",
       "      <th></th>\n",
       "      <th>Query</th>\n",
       "      <th>Expected</th>\n",
       "      <th>Predicted</th>\n",
       "      <th>LevenshtienSimilarity</th>\n",
       "    </tr>\n",
       "  </thead>\n",
       "  <tbody>\n",
       "    <tr>\n",
       "      <th>0</th>\n",
       "      <td>What are the two main categories of public cap...</td>\n",
       "      <td>The two main categories of public capital work...</td>\n",
       "      <td>The two main categories of public capital work...</td>\n",
       "      <td>0.155861</td>\n",
       "    </tr>\n",
       "    <tr>\n",
       "      <th>1</th>\n",
       "      <td>What are Delay Events and Compensation Events ...</td>\n",
       "      <td>Delay Events are events that are not at the co...</td>\n",
       "      <td>Delay events refer to instances when work on a...</td>\n",
       "      <td>0.339820</td>\n",
       "    </tr>\n",
       "    <tr>\n",
       "      <th>2</th>\n",
       "      <td>What are the key structural components of the ...</td>\n",
       "      <td>The structure includes: 1. Letter of Acceptanc...</td>\n",
       "      <td>The key structural components of the new publi...</td>\n",
       "      <td>0.432940</td>\n",
       "    </tr>\n",
       "    <tr>\n",
       "      <th>3</th>\n",
       "      <td>What is the purpose of Programme Contingency i...</td>\n",
       "      <td>Programme Contingency is a specified delay per...</td>\n",
       "      <td>The provided information does not mention anyt...</td>\n",
       "      <td>0.323719</td>\n",
       "    </tr>\n",
       "    <tr>\n",
       "      <th>4</th>\n",
       "      <td>Under what circumstances can a Contracting Aut...</td>\n",
       "      <td>A Contracting Authority can allocate this risk...</td>\n",
       "      <td>A Contracting Authority can allocate the risk ...</td>\n",
       "      <td>0.324441</td>\n",
       "    </tr>\n",
       "  </tbody>\n",
       "</table>\n",
       "</div>"
      ],
      "text/plain": [
       "                                               Query  \\\n",
       "0  What are the two main categories of public cap...   \n",
       "1  What are Delay Events and Compensation Events ...   \n",
       "2  What are the key structural components of the ...   \n",
       "3  What is the purpose of Programme Contingency i...   \n",
       "4  Under what circumstances can a Contracting Aut...   \n",
       "\n",
       "                                            Expected  \\\n",
       "0  The two main categories of public capital work...   \n",
       "1  Delay Events are events that are not at the co...   \n",
       "2  The structure includes: 1. Letter of Acceptanc...   \n",
       "3  Programme Contingency is a specified delay per...   \n",
       "4  A Contracting Authority can allocate this risk...   \n",
       "\n",
       "                                           Predicted  LevenshtienSimilarity  \n",
       "0  The two main categories of public capital work...               0.155861  \n",
       "1  Delay events refer to instances when work on a...               0.339820  \n",
       "2  The key structural components of the new publi...               0.432940  \n",
       "3  The provided information does not mention anyt...               0.323719  \n",
       "4  A Contracting Authority can allocate the risk ...               0.324441  "
      ]
     },
     "execution_count": 20,
     "metadata": {},
     "output_type": "execute_result"
    }
   ],
   "source": [
    "df.head(5)"
   ]
  },
  {
   "cell_type": "markdown",
   "id": "f2560734-4c03-4717-be02-571dcb44fa62",
   "metadata": {},
   "source": [
    "#### Human Testing"
   ]
  },
  {
   "cell_type": "code",
   "execution_count": 21,
   "id": "e62bcdf5-cf86-46fe-9bca-488e0d164377",
   "metadata": {},
   "outputs": [],
   "source": [
    "row = 0"
   ]
  },
  {
   "cell_type": "code",
   "execution_count": 22,
   "id": "554e7c55-6f38-4495-a2a3-ab3490686746",
   "metadata": {},
   "outputs": [
    {
     "data": {
      "text/plain": [
       "'What are the two main categories of public capital works projects mentioned in the manual?'"
      ]
     },
     "execution_count": 22,
     "metadata": {},
     "output_type": "execute_result"
    }
   ],
   "source": [
    "df[\"Query\"].iloc[row]"
   ]
  },
  {
   "cell_type": "code",
   "execution_count": 23,
   "id": "e1a1b204-0dee-4c1f-930f-8e2ca5093bcc",
   "metadata": {},
   "outputs": [
    {
     "data": {
      "text/plain": [
       "'The two main categories of public capital works projects mentioned in the manual are Civil Engineering Works and Building Works.\\n\\nThis answer was generated using the text references on page(s): 16'"
      ]
     },
     "execution_count": 23,
     "metadata": {},
     "output_type": "execute_result"
    }
   ],
   "source": [
    "df[\"Predicted\"].iloc[row]"
   ]
  },
  {
   "cell_type": "code",
   "execution_count": 24,
   "id": "6892c8d2-ceec-4348-8365-94b3fe360320",
   "metadata": {},
   "outputs": [
    {
     "data": {
      "text/plain": [
       "'The two main categories of public capital works projects are Civil Engineering Works and Building Works. Civil engineering works include roads, tunnels, and bridges, typically designed by civil engineers. Building works include office buildings, schools, and hospitals, generally designed by architects.'"
      ]
     },
     "execution_count": 24,
     "metadata": {},
     "output_type": "execute_result"
    }
   ],
   "source": [
    "df[\"Expected\"].iloc[row]"
   ]
  },
  {
   "cell_type": "markdown",
   "id": "a7333154-00d3-4de2-bdd2-d0f3d473a845",
   "metadata": {},
   "source": [
    "#### ROUGE/BLEU Scores"
   ]
  },
  {
   "cell_type": "code",
   "execution_count": 25,
   "id": "9fed5aaf-10e2-48ac-93ac-d02e0681ac7f",
   "metadata": {},
   "outputs": [
    {
     "name": "stderr",
     "output_type": "stream",
     "text": [
      "Using the latest cached version of the module from C:\\Users\\karti\\.cache\\huggingface\\modules\\evaluate_modules\\metrics\\evaluate-metric--rouge\\b01e0accf3bd6dd24839b769a5fda24e14995071570870922c71970b3a6ed886 (last modified on Mon May 26 14:06:09 2025) since it couldn't be found locally at evaluate-metric--rouge, or remotely on the Hugging Face Hub.\n",
      "Using the latest cached version of the module from C:\\Users\\karti\\.cache\\huggingface\\modules\\evaluate_modules\\metrics\\evaluate-metric--bleu\\9e0985c1200e367cce45605ce0ecb5ede079894e0f24f54613fca08eeb8aff76 (last modified on Mon May 26 14:11:54 2025) since it couldn't be found locally at evaluate-metric--bleu, or remotely on the Hugging Face Hub.\n"
     ]
    }
   ],
   "source": [
    "rouge = evaluate.load('rouge')\n",
    "bleu = evaluate.load('bleu')"
   ]
  },
  {
   "cell_type": "code",
   "execution_count": 26,
   "id": "38503dd3-8ced-4bba-a992-12a91dd09b0b",
   "metadata": {},
   "outputs": [
    {
     "name": "stdout",
     "output_type": "stream",
     "text": [
      "{'rouge1': 0.4383561643835617, 'rouge2': 0.3943661971830986, 'rougeL': 0.4383561643835617, 'rougeLsum': 0.4383561643835617}\n"
     ]
    }
   ],
   "source": [
    "results = rouge.compute(predictions=[df[\"Predicted\"].iloc[row]], references=[df[\"Expected\"].iloc[row]])\n",
    "print(results)"
   ]
  },
  {
   "cell_type": "code",
   "execution_count": 27,
   "id": "75fa6c82-95a2-4eef-a875-9d48491f0450",
   "metadata": {},
   "outputs": [
    {
     "name": "stdout",
     "output_type": "stream",
     "text": [
      "{'bleu': 0.27163511112029864, 'precisions': [0.4722222222222222, 0.42857142857142855, 0.38235294117647056, 0.3333333333333333], 'brevity_penalty': 0.6778095780054504, 'length_ratio': 0.72, 'translation_length': 36, 'reference_length': 50}\n"
     ]
    }
   ],
   "source": [
    "results = bleu.compute(predictions=[df[\"Predicted\"].iloc[row]], references=[df[\"Expected\"].iloc[row]])\n",
    "print(results)"
   ]
  },
  {
   "cell_type": "code",
   "execution_count": null,
   "id": "4c6ee647-962b-4d2a-a6c7-2fd8cdc7fefd",
   "metadata": {},
   "outputs": [],
   "source": []
  },
  {
   "cell_type": "code",
   "execution_count": 28,
   "id": "df2235af-1c26-4146-8a81-0dc79798cab9",
   "metadata": {},
   "outputs": [
    {
     "name": "stdout",
     "output_type": "stream",
     "text": [
      "{'rouge1': 0.3040668485121949, 'rouge2': 0.13563399823208128, 'rougeL': 0.22770016042126812, 'rougeLsum': 0.23266656621491083}\n"
     ]
    }
   ],
   "source": [
    "results = rouge.compute(predictions=df[\"Predicted\"].tolist(), references=df[\"Expected\"].tolist())\n",
    "print(results)"
   ]
  },
  {
   "cell_type": "code",
   "execution_count": 29,
   "id": "115f5ac3-b451-4e66-84c9-ea8a6c3a741b",
   "metadata": {},
   "outputs": [
    {
     "name": "stdout",
     "output_type": "stream",
     "text": [
      "{'bleu': 0.07188847655348057, 'precisions': [0.22792607802874743, 0.07053941908713693, 0.04612159329140461, 0.036016949152542374], 'brevity_penalty': 1.0, 'length_ratio': 1.770909090909091, 'translation_length': 487, 'reference_length': 275}\n"
     ]
    }
   ],
   "source": [
    "results = bleu.compute(predictions=df[\"Predicted\"].tolist(), references=df[\"Expected\"].tolist())\n",
    "print(results)"
   ]
  },
  {
   "cell_type": "markdown",
   "id": "f9850e13-7cc0-4e82-b426-285f9db0cfef",
   "metadata": {
    "tags": []
   },
   "source": [
    "### Query to check for tables"
   ]
  },
  {
   "cell_type": "markdown",
   "id": "63b350ea-b255-4b2d-b520-ed3c9f48bf03",
   "metadata": {
    "tags": []
   },
   "source": [
    "#### GPT Generated question based on table on page 38"
   ]
  },
  {
   "cell_type": "code",
   "execution_count": 30,
   "id": "1c1c3ad3-f573-4d12-aed1-e594346021cd",
   "metadata": {},
   "outputs": [
    {
     "data": {
      "text/plain": [
       "'Identify and explain one specific event that qualifies as a Delay Event but not a Compensation Event under all three forms of contract: Traditional, Design & Build, and Minor Works. Support your answer using the information.?'"
      ]
     },
     "execution_count": 30,
     "metadata": {},
     "output_type": "execute_result"
    }
   ],
   "source": [
    "q = \"Identify and explain one specific event that qualifies as a Delay Event but not a Compensation Event under all three forms of contract: Traditional, Design & Build, and Minor Works. \\\n",
    "Support your answer using the information.?\"\n",
    "\n",
    "q"
   ]
  },
  {
   "cell_type": "code",
   "execution_count": 31,
   "id": "dbb7f9fe-e9bf-439f-bddf-697f8e8ab05e",
   "metadata": {},
   "outputs": [
    {
     "data": {
      "text/plain": [
       "['Identify and explain one specific event that qualifies as a Delay Event but not a Compensation Event under all three forms of contract: Traditional, Design & Build, and Minor Works. Support your answer using the information.']"
      ]
     },
     "execution_count": 31,
     "metadata": {},
     "output_type": "execute_result"
    }
   ],
   "source": [
    "qrs = reWriteExpander(q, mcq=False)\n",
    "qrs"
   ]
  },
  {
   "cell_type": "code",
   "execution_count": 32,
   "id": "f58cc314-ea46-447f-b315-7a0e7bf40ed9",
   "metadata": {},
   "outputs": [
    {
     "data": {
      "text/html": [
       "<div>\n",
       "<style scoped>\n",
       "    .dataframe tbody tr th:only-of-type {\n",
       "        vertical-align: middle;\n",
       "    }\n",
       "\n",
       "    .dataframe tbody tr th {\n",
       "        vertical-align: top;\n",
       "    }\n",
       "\n",
       "    .dataframe thead th {\n",
       "        text-align: right;\n",
       "    }\n",
       "</style>\n",
       "<table border=\"1\" class=\"dataframe\">\n",
       "  <thead>\n",
       "    <tr style=\"text-align: right;\">\n",
       "      <th></th>\n",
       "      <th>Chunks</th>\n",
       "      <th>PageNo</th>\n",
       "      <th>imagePath</th>\n",
       "      <th>embeddings</th>\n",
       "      <th>cosine_similarity</th>\n",
       "    </tr>\n",
       "  </thead>\n",
       "  <tbody>\n",
       "    <tr>\n",
       "      <th>0</th>\n",
       "      <td>The image is a table from a research paper com...</td>\n",
       "      <td>41</td>\n",
       "      <td>images\\page-41_img8.png</td>\n",
       "      <td>[0.001292031491175294, 0.006042515393346548, -...</td>\n",
       "      <td>0.838398</td>\n",
       "    </tr>\n",
       "    <tr>\n",
       "      <th>1</th>\n",
       "      <td>= . 9. The Employer does not give the Contract...</td>\n",
       "      <td>39</td>\n",
       "      <td>NaN</td>\n",
       "      <td>[0.010430303402245045, -0.003476436948403716, ...</td>\n",
       "      <td>0.836329</td>\n",
       "    </tr>\n",
       "    <tr>\n",
       "      <th>2</th>\n",
       "      <td>9.2, MINOR WORKS.Delay Event = Yes. 4. The Con...</td>\n",
       "      <td>38</td>\n",
       "      <td>NaN</td>\n",
       "      <td>[-0.004050837829709053, 0.0043960995972156525,...</td>\n",
       "      <td>0.827263</td>\n",
       "    </tr>\n",
       "    <tr>\n",
       "      <th>3</th>\n",
       "      <td>The following  table  is  compiled  from  Sect...</td>\n",
       "      <td>37</td>\n",
       "      <td>NaN</td>\n",
       "      <td>[-0.006695794872939587, 0.022547774016857147, ...</td>\n",
       "      <td>0.819687</td>\n",
       "    </tr>\n",
       "    <tr>\n",
       "      <th>4</th>\n",
       "      <td>1. The Employer's Representative gives the Con...</td>\n",
       "      <td>38</td>\n",
       "      <td>NaN</td>\n",
       "      <td>[0.002150048268958926, 0.0009375461377203465, ...</td>\n",
       "      <td>0.817519</td>\n",
       "    </tr>\n",
       "  </tbody>\n",
       "</table>\n",
       "</div>"
      ],
      "text/plain": [
       "                                              Chunks  PageNo  \\\n",
       "0  The image is a table from a research paper com...      41   \n",
       "1  = . 9. The Employer does not give the Contract...      39   \n",
       "2  9.2, MINOR WORKS.Delay Event = Yes. 4. The Con...      38   \n",
       "3  The following  table  is  compiled  from  Sect...      37   \n",
       "4  1. The Employer's Representative gives the Con...      38   \n",
       "\n",
       "                 imagePath                                         embeddings  \\\n",
       "0  images\\page-41_img8.png  [0.001292031491175294, 0.006042515393346548, -...   \n",
       "1                      NaN  [0.010430303402245045, -0.003476436948403716, ...   \n",
       "2                      NaN  [-0.004050837829709053, 0.0043960995972156525,...   \n",
       "3                      NaN  [-0.006695794872939587, 0.022547774016857147, ...   \n",
       "4                      NaN  [0.002150048268958926, 0.0009375461377203465, ...   \n",
       "\n",
       "   cosine_similarity  \n",
       "0           0.838398  \n",
       "1           0.836329  \n",
       "2           0.827263  \n",
       "3           0.819687  \n",
       "4           0.817519  "
      ]
     },
     "execution_count": 32,
     "metadata": {},
     "output_type": "execute_result"
    }
   ],
   "source": [
    "df = getTopN(qrs, 10)\n",
    "df.head(5)"
   ]
  },
  {
   "cell_type": "code",
   "execution_count": 33,
   "id": "3d9aec6f-e9e7-47b0-8719-45daebcb1f44",
   "metadata": {},
   "outputs": [
    {
     "name": "stderr",
     "output_type": "stream",
     "text": [
      "You're using a XLMRobertaTokenizerFast tokenizer. Please note that with a fast tokenizer, using the `__call__` method is faster than using a method to encode the text followed by a call to the `pad` method to get a padded encoding.\n"
     ]
    },
    {
     "data": {
      "text/html": [
       "<div>\n",
       "<style scoped>\n",
       "    .dataframe tbody tr th:only-of-type {\n",
       "        vertical-align: middle;\n",
       "    }\n",
       "\n",
       "    .dataframe tbody tr th {\n",
       "        vertical-align: top;\n",
       "    }\n",
       "\n",
       "    .dataframe thead th {\n",
       "        text-align: right;\n",
       "    }\n",
       "</style>\n",
       "<table border=\"1\" class=\"dataframe\">\n",
       "  <thead>\n",
       "    <tr style=\"text-align: right;\">\n",
       "      <th></th>\n",
       "      <th>Chunks</th>\n",
       "      <th>PageNo</th>\n",
       "      <th>imagePath</th>\n",
       "      <th>embeddings</th>\n",
       "      <th>cosine_similarity</th>\n",
       "      <th>rerank_score</th>\n",
       "    </tr>\n",
       "  </thead>\n",
       "  <tbody>\n",
       "    <tr>\n",
       "      <th>0</th>\n",
       "      <td>The image is a table from a research paper com...</td>\n",
       "      <td>41</td>\n",
       "      <td>images\\page-41_img8.png</td>\n",
       "      <td>[0.001292031491175294, 0.006042515393346548, -...</td>\n",
       "      <td>0.838398</td>\n",
       "      <td>3.916457</td>\n",
       "    </tr>\n",
       "    <tr>\n",
       "      <th>2</th>\n",
       "      <td>9.2, MINOR WORKS.Delay Event = Yes. 4. The Con...</td>\n",
       "      <td>38</td>\n",
       "      <td>NaN</td>\n",
       "      <td>[-0.004050837829709053, 0.0043960995972156525,...</td>\n",
       "      <td>0.827263</td>\n",
       "      <td>2.058186</td>\n",
       "    </tr>\n",
       "    <tr>\n",
       "      <th>1</th>\n",
       "      <td>= . 9. The Employer does not give the Contract...</td>\n",
       "      <td>39</td>\n",
       "      <td>NaN</td>\n",
       "      <td>[0.010430303402245045, -0.003476436948403716, ...</td>\n",
       "      <td>0.836329</td>\n",
       "      <td>1.450883</td>\n",
       "    </tr>\n",
       "    <tr>\n",
       "      <th>4</th>\n",
       "      <td>1. The Employer's Representative gives the Con...</td>\n",
       "      <td>38</td>\n",
       "      <td>NaN</td>\n",
       "      <td>[0.002150048268958926, 0.0009375461377203465, ...</td>\n",
       "      <td>0.817519</td>\n",
       "      <td>1.426681</td>\n",
       "    </tr>\n",
       "    <tr>\n",
       "      <th>5</th>\n",
       "      <td>12. Loss of or damage to the Works that is at ...</td>\n",
       "      <td>40</td>\n",
       "      <td>NaN</td>\n",
       "      <td>[-0.012642641551792622, 0.017360514029860497, ...</td>\n",
       "      <td>0.816902</td>\n",
       "      <td>1.128211</td>\n",
       "    </tr>\n",
       "  </tbody>\n",
       "</table>\n",
       "</div>"
      ],
      "text/plain": [
       "                                              Chunks  PageNo  \\\n",
       "0  The image is a table from a research paper com...      41   \n",
       "2  9.2, MINOR WORKS.Delay Event = Yes. 4. The Con...      38   \n",
       "1  = . 9. The Employer does not give the Contract...      39   \n",
       "4  1. The Employer's Representative gives the Con...      38   \n",
       "5  12. Loss of or damage to the Works that is at ...      40   \n",
       "\n",
       "                 imagePath                                         embeddings  \\\n",
       "0  images\\page-41_img8.png  [0.001292031491175294, 0.006042515393346548, -...   \n",
       "2                      NaN  [-0.004050837829709053, 0.0043960995972156525,...   \n",
       "1                      NaN  [0.010430303402245045, -0.003476436948403716, ...   \n",
       "4                      NaN  [0.002150048268958926, 0.0009375461377203465, ...   \n",
       "5                      NaN  [-0.012642641551792622, 0.017360514029860497, ...   \n",
       "\n",
       "   cosine_similarity  rerank_score  \n",
       "0           0.838398      3.916457  \n",
       "2           0.827263      2.058186  \n",
       "1           0.836329      1.450883  \n",
       "4           0.817519      1.426681  \n",
       "5           0.816902      1.128211  "
      ]
     },
     "execution_count": 33,
     "metadata": {},
     "output_type": "execute_result"
    }
   ],
   "source": [
    "qdf = reRank(q, df)\n",
    "qdf.head(5)"
   ]
  },
  {
   "cell_type": "code",
   "execution_count": 34,
   "id": "7569c6ca-1c4b-469e-9155-24df217a1a4b",
   "metadata": {},
   "outputs": [
    {
     "data": {
      "text/plain": [
       "'9.2, MINOR WORKS.Delay Event = Yes. 4. The Contractor suspends work in accordance with sub-clause 12.3, TRADITIONAL.Delay Event = Yes. 4. The Contractor suspends work in accordance with sub-clause 12.3, TRADITIONAL.Compensation Event = Yes. 4. The Contractor suspends work in accordance with sub-clause 12.3, DESIGN & BUILD. = . 4. The Contractor suspends work in accordance with sub-clause 12.3, DESIGN & BUILD.Delay Event Compensation Event = Yes Yes. 4. The Contractor suspends work in accordance with sub-clause 12.3, MINOR WORKS.Delay Event = Yes. 5. There is a factual error in information about the Site or setting out information in the Works Requirements. [This does not include an error of interpretation]., TRADITIONAL.Delay Event = Yes. 5. There is a factual error in information about the Site or setting out information in the Works Requirements. [This does not include an error of interpretation]., TRADITIONAL.Compensation Event = Yes. 5. There is a factual error in information about the Site or setting out information in the Works Requirements. [This does not include an error of interpretation]., DESIGN & BUILD. = . 5. There is a factual error in information about the Site or setting out information in the Works Requirements. [This does not include an error of interpretation]., DESIGN & BUILD.Delay Event Compensation Event = Not Used. 5. There is a factual error in information about the Site or setting out information in the Works Requirements. [This does not include an error of interpretation]., MINOR WORKS.Delay Event = Yes. 6. The Employer takes over part of the Works before Substantial Completion of the Works and any relevant Section., TRADITIONAL.Delay Event = Yes. 6. The Employer takes over part of the Works before Substantial Completion of the Works and any relevant Section., TRADITIONAL.Compensation Event = Yes. 6. The Employer takes over part of the Works before Substantial Completion of the Works and any relevant Section., DESIGN & BUILD. = . 6. The Employer takes over part of the Works before Substantial Completion of the Works and any relevant Section., DESIGN & BUILD.Delay Event Compensation Event = Yes Yes. 6. The Employer takes over part of the Works before Substantial Completion of the Works and any relevant Section., MINOR WORKS.Delay Event = Not Used'"
      ]
     },
     "execution_count": 34,
     "metadata": {},
     "output_type": "execute_result"
    }
   ],
   "source": [
    "# Sometimes the table was also represented by docling as an Image hence image being in Row 0\n",
    "# Row 1 is how the table is represented as text by docling as chunks\n",
    "qdf[\"Chunks\"].iloc[1]"
   ]
  },
  {
   "cell_type": "code",
   "execution_count": 35,
   "id": "2e0c0083-d568-460e-8724-57a3652db1ab",
   "metadata": {},
   "outputs": [
    {
     "data": {
      "text/plain": [
       "'After reviewing the table, I have identified an event that qualifies as a Delay Event but not a Compensation Event under all three forms of contract:\\n\\n**Event:** Loss of or damage to the Works that is at the Contractor\\'s risk in accordance with clause 3.2.\\n\\n**Reasoning:**\\n\\n* Under **Traditional**, this event is listed as a Delay Event (Delay Event = Yes) and not a Compensation Event.\\n* Under **Design & Build**, this event is also listed as a Delay Event (Delay Event = Yes) and not a Compensation Event.\\n* Under **Minor Works**, this event is listed as a Delay Event (Delay Event = Yes) but with a note that it is \"Not used\" for Compensation Event.\\n\\n**Explanation:**\\n\\nThis event occurs when the Contractor is responsible for loss or damage to the Works, which is outside of their scope and risk. As such, it is not considered a Compensation Event, as it is not an unforeseen event caused by the Employer\\'s actions or omissions. Instead, it is a result of the Contractor\\'s own actions or lack thereof.\\n\\nIn all three forms of contract, this event is specifically listed as a Delay Event, indicating that it will cause a delay in the completion of the Works. However, under Minor Works, it is not used for Compensation Event, suggesting that the scope of the Minor Works contract may not cover such risks or losses.\\n\\nTherefore, Loss of or damage to the Works that is at the Contractor\\'s risk in accordance with clause 3.2 is a specific event that qualifies as a Delay Event but not a Compensation Event under all three forms of contract: Traditional, Design & Build, and Minor Works.'"
      ]
     },
     "execution_count": 35,
     "metadata": {},
     "output_type": "execute_result"
    }
   ],
   "source": [
    "# Reference is added later in the pipeline function so no reference shown here\n",
    "\n",
    "llmInstructions = \"\"\"\n",
    "Using ONLY the provided information, answer the question.\\\n",
    "If the answer is not present in the information, reply with:\\\n",
    "\"Answer not in given information\"\n",
    "\"\"\"\n",
    "\n",
    "ans = getLLMAns(q, df, llmModelName=\"llama3.2\", llmInstructions=llmInstructions)\n",
    "ans"
   ]
  },
  {
   "cell_type": "code",
   "execution_count": 36,
   "id": "6b2e5067-a086-4690-8e7f-d3a8453a97f2",
   "metadata": {},
   "outputs": [],
   "source": [
    "#assert False"
   ]
  },
  {
   "cell_type": "markdown",
   "id": "db171fbc-88a4-455b-98f4-4d63f6c23251",
   "metadata": {},
   "source": [
    "### Query to check for images"
   ]
  },
  {
   "cell_type": "code",
   "execution_count": 37,
   "id": "189d6c78-04d2-4bb1-9509-3e729fc6eec9",
   "metadata": {},
   "outputs": [
    {
     "data": {
      "text/plain": [
       "'What are the key control points in the Capital Works Management Framework where project reviews are mandated during the Planning and Implementation stages?'"
      ]
     },
     "execution_count": 37,
     "metadata": {},
     "output_type": "execute_result"
    }
   ],
   "source": [
    "q = \"What are the key control points in the Capital Works Management Framework where project reviews are mandated during the Planning and Implementation stages?\"\n",
    "\n",
    "q"
   ]
  },
  {
   "cell_type": "code",
   "execution_count": 38,
   "id": "4ab65c6d-d7d4-40cc-b0a2-44f7d0dafed0",
   "metadata": {},
   "outputs": [
    {
     "data": {
      "text/plain": [
       "['What are the key control points in the Capital Works Management Framework where project reviews are mandated during the Planning and Implementation stages?']"
      ]
     },
     "execution_count": 38,
     "metadata": {},
     "output_type": "execute_result"
    }
   ],
   "source": [
    "qrs = reWriteExpander(q, mcq=False)\n",
    "qrs"
   ]
  },
  {
   "cell_type": "code",
   "execution_count": 39,
   "id": "6e2d4b8a-7a30-4c85-9732-ac88077d4d6f",
   "metadata": {},
   "outputs": [
    {
     "data": {
      "text/html": [
       "<div>\n",
       "<style scoped>\n",
       "    .dataframe tbody tr th:only-of-type {\n",
       "        vertical-align: middle;\n",
       "    }\n",
       "\n",
       "    .dataframe tbody tr th {\n",
       "        vertical-align: top;\n",
       "    }\n",
       "\n",
       "    .dataframe thead th {\n",
       "        text-align: right;\n",
       "    }\n",
       "</style>\n",
       "<table border=\"1\" class=\"dataframe\">\n",
       "  <thead>\n",
       "    <tr style=\"text-align: right;\">\n",
       "      <th></th>\n",
       "      <th>Chunks</th>\n",
       "      <th>PageNo</th>\n",
       "      <th>imagePath</th>\n",
       "      <th>embeddings</th>\n",
       "      <th>cosine_similarity</th>\n",
       "    </tr>\n",
       "  </thead>\n",
       "  <tbody>\n",
       "    <tr>\n",
       "      <th>0</th>\n",
       "      <td>The image displays a structured diagram titled...</td>\n",
       "      <td>16</td>\n",
       "      <td>images\\page-16_img4.png</td>\n",
       "      <td>[0.020727336406707764, -0.014973741956055164, ...</td>\n",
       "      <td>0.780836</td>\n",
       "    </tr>\n",
       "    <tr>\n",
       "      <th>1</th>\n",
       "      <td>The Capital  Works  Management  Framework is a...</td>\n",
       "      <td>16</td>\n",
       "      <td>NaN</td>\n",
       "      <td>[-0.039464130997657776, 0.001380482572130859, ...</td>\n",
       "      <td>0.767650</td>\n",
       "    </tr>\n",
       "    <tr>\n",
       "      <th>2</th>\n",
       "      <td>Building Works, CAPITAL WORKS MANAGEMENT FRAME...</td>\n",
       "      <td>18</td>\n",
       "      <td>NaN</td>\n",
       "      <td>[-0.015871873125433922, -0.02579466812312603, ...</td>\n",
       "      <td>0.671131</td>\n",
       "    </tr>\n",
       "    <tr>\n",
       "      <th>3</th>\n",
       "      <td>The new public works contracts are very much a...</td>\n",
       "      <td>22</td>\n",
       "      <td>NaN</td>\n",
       "      <td>[-0.01807848922908306, 0.015640415251255035, -...</td>\n",
       "      <td>0.667816</td>\n",
       "    </tr>\n",
       "    <tr>\n",
       "      <th>4</th>\n",
       "      <td>The  aim  of  this  course  is  to  support  d...</td>\n",
       "      <td>21</td>\n",
       "      <td>NaN</td>\n",
       "      <td>[-0.004354395437985659, 0.011255735531449318, ...</td>\n",
       "      <td>0.652762</td>\n",
       "    </tr>\n",
       "  </tbody>\n",
       "</table>\n",
       "</div>"
      ],
      "text/plain": [
       "                                              Chunks  PageNo  \\\n",
       "0  The image displays a structured diagram titled...      16   \n",
       "1  The Capital  Works  Management  Framework is a...      16   \n",
       "2  Building Works, CAPITAL WORKS MANAGEMENT FRAME...      18   \n",
       "3  The new public works contracts are very much a...      22   \n",
       "4  The  aim  of  this  course  is  to  support  d...      21   \n",
       "\n",
       "                 imagePath                                         embeddings  \\\n",
       "0  images\\page-16_img4.png  [0.020727336406707764, -0.014973741956055164, ...   \n",
       "1                      NaN  [-0.039464130997657776, 0.001380482572130859, ...   \n",
       "2                      NaN  [-0.015871873125433922, -0.02579466812312603, ...   \n",
       "3                      NaN  [-0.01807848922908306, 0.015640415251255035, -...   \n",
       "4                      NaN  [-0.004354395437985659, 0.011255735531449318, ...   \n",
       "\n",
       "   cosine_similarity  \n",
       "0           0.780836  \n",
       "1           0.767650  \n",
       "2           0.671131  \n",
       "3           0.667816  \n",
       "4           0.652762  "
      ]
     },
     "execution_count": 39,
     "metadata": {},
     "output_type": "execute_result"
    }
   ],
   "source": [
    "df = getTopN(qrs, 10)\n",
    "df.head(5)"
   ]
  },
  {
   "cell_type": "code",
   "execution_count": 40,
   "id": "15d00df3-0ee9-47c5-b1f6-98c96881c8cc",
   "metadata": {},
   "outputs": [
    {
     "data": {
      "text/plain": [
       "'The image displays a structured diagram titled \"Capital Works Management Framework,\" organized into three main sections: Stage, Project Management, and Procedure.\\n\\n1. **Stage:**\\n   - Contains two levels: Appraisal and Approval in Principle.\\n\\n2. **Project Management:**\\n   - Divided into four main phases:\\n     1. **Planning (Preliminary):**\\n        - **1.1 Project Definition:** Focuses on major project milestone reviews.\\n        - **1.2 Procurement Strategy & Contract Type**\\n        - **1.3 Consultants Appointment Process & Conditions of Engagement**\\n     2. **Planning (Detailed):**\\n        - **2.1 Design Development and Procurement Process:** Includes major project assessment reviews.\\n        - **2.2 Tender Process**\\n     3. **Implementation:**\\n        - **3.1 Construction Process**\\n     4. **Review:**\\n        - **4.1 Post Project Review**\\n\\n3. **Procedure:**\\n   - Each stage in Project Management is linked with a corresponding procedure:\\n     - **1.1.1 Budget Development**\\n     - **1.1.2 Control project review at end of process**\\n     - **1.2.1 Design Cost Control**\\n     - **2.1.1 Design Cost Control**\\n     - **2.2.1 Control project review at end of process**\\n     - **3.1.1 Construction Cost Control**\\n     - **4.1.1 Analysis of Outturn Costs**\\n\\nThe framework uses color coding to distinguish between sections and emphasizes review points in blue for major assessment reviews. Horizontal dashed lines separate different categories, creating a clear segmentation of processes and procedures.'"
      ]
     },
     "execution_count": 40,
     "metadata": {},
     "output_type": "execute_result"
    }
   ],
   "source": [
    "# Shows LLM generated image summary\n",
    "df[\"Chunks\"].iloc[0]"
   ]
  },
  {
   "cell_type": "code",
   "execution_count": 41,
   "id": "9a4427c9-a5b4-4095-a7b6-23522494e78e",
   "metadata": {},
   "outputs": [
    {
     "data": {
      "text/html": [
       "<div>\n",
       "<style scoped>\n",
       "    .dataframe tbody tr th:only-of-type {\n",
       "        vertical-align: middle;\n",
       "    }\n",
       "\n",
       "    .dataframe tbody tr th {\n",
       "        vertical-align: top;\n",
       "    }\n",
       "\n",
       "    .dataframe thead th {\n",
       "        text-align: right;\n",
       "    }\n",
       "</style>\n",
       "<table border=\"1\" class=\"dataframe\">\n",
       "  <thead>\n",
       "    <tr style=\"text-align: right;\">\n",
       "      <th></th>\n",
       "      <th>Chunks</th>\n",
       "      <th>PageNo</th>\n",
       "      <th>imagePath</th>\n",
       "      <th>embeddings</th>\n",
       "      <th>cosine_similarity</th>\n",
       "      <th>rerank_score</th>\n",
       "    </tr>\n",
       "  </thead>\n",
       "  <tbody>\n",
       "    <tr>\n",
       "      <th>0</th>\n",
       "      <td>The image displays a structured diagram titled...</td>\n",
       "      <td>16</td>\n",
       "      <td>images\\page-16_img4.png</td>\n",
       "      <td>[0.020727336406707764, -0.014973741956055164, ...</td>\n",
       "      <td>0.780836</td>\n",
       "      <td>3.479454</td>\n",
       "    </tr>\n",
       "    <tr>\n",
       "      <th>1</th>\n",
       "      <td>The Capital  Works  Management  Framework is a...</td>\n",
       "      <td>16</td>\n",
       "      <td>NaN</td>\n",
       "      <td>[-0.039464130997657776, 0.001380482572130859, ...</td>\n",
       "      <td>0.767650</td>\n",
       "      <td>0.637613</td>\n",
       "    </tr>\n",
       "  </tbody>\n",
       "</table>\n",
       "</div>"
      ],
      "text/plain": [
       "                                              Chunks  PageNo  \\\n",
       "0  The image displays a structured diagram titled...      16   \n",
       "1  The Capital  Works  Management  Framework is a...      16   \n",
       "\n",
       "                 imagePath                                         embeddings  \\\n",
       "0  images\\page-16_img4.png  [0.020727336406707764, -0.014973741956055164, ...   \n",
       "1                      NaN  [-0.039464130997657776, 0.001380482572130859, ...   \n",
       "\n",
       "   cosine_similarity  rerank_score  \n",
       "0           0.780836      3.479454  \n",
       "1           0.767650      0.637613  "
      ]
     },
     "execution_count": 41,
     "metadata": {},
     "output_type": "execute_result"
    }
   ],
   "source": [
    "qdf = reRank(q, df)\n",
    "qdf.head(5)"
   ]
  },
  {
   "cell_type": "code",
   "execution_count": 42,
   "id": "749037e2-a058-4471-bdd8-83dc994bfe58",
   "metadata": {},
   "outputs": [
    {
     "data": {
      "text/plain": [
       "'Answer not in given information'"
      ]
     },
     "execution_count": 42,
     "metadata": {},
     "output_type": "execute_result"
    }
   ],
   "source": [
    "llmInstructions = \"\"\"\n",
    "Using ONLY the provided information, answer the question.\\\n",
    "If the answer is not present in the information, reply with:\\\n",
    "\"Answer not in given information\"\n",
    "\"\"\"\n",
    "\n",
    "ans = getLLMAns(q, df, llmModelName=\"llama3.2\", llmInstructions=llmInstructions)\n",
    "ans"
   ]
  },
  {
   "cell_type": "code",
   "execution_count": 43,
   "id": "59592281-51c3-482a-8002-0267a73a8c04",
   "metadata": {},
   "outputs": [],
   "source": [
    "# Pass in optional list by reference to get htmlOutput for images\n",
    "htmlOut = []\n",
    "ans = answer(q, mcq=False, htmlOut=htmlOut)"
   ]
  },
  {
   "cell_type": "code",
   "execution_count": 44,
   "id": "eb77a835-15e8-4f70-9f7e-0f92fdb3e260",
   "metadata": {},
   "outputs": [
    {
     "name": "stdout",
     "output_type": "stream",
     "text": [
      "According to Information 0:\n",
      "\n",
      "- In the **Planning (Detailed) stage**, there is a review point: **2.2.1 Control project review at end of process**\n",
      "- In the **Implementation stage**, there is a review point: **3.1.1 Construction Cost Control** and also **4.1.1 Analysis of Outturn Costs**\n",
      "\n",
      "These are the key control points in the Capital Works Management Framework where project reviews are mandated during the Planning and Implementation stages.\n",
      "\n",
      "This answer was generated using the text references on page(s): 16\n",
      "\n",
      "This answer was generated using the image references on page(s): 16\n"
     ]
    },
    {
     "data": {
      "text/html": [
       "\n",
       "Click to view the images used: <a href=\"images/page-16_img4.png\" target=\"_blank\">img-page16</a>"
      ],
      "text/plain": [
       "<IPython.core.display.HTML object>"
      ]
     },
     "metadata": {},
     "output_type": "display_data"
    }
   ],
   "source": [
    "# Print for the LLM Generated response\n",
    "print(ans)\n",
    "# Display for the HTML Image Link\n",
    "display(htmlOut[-1])"
   ]
  },
  {
   "cell_type": "code",
   "execution_count": 45,
   "id": "9b0513dd-22ad-406a-8984-9aa692232d05",
   "metadata": {},
   "outputs": [
    {
     "data": {
      "text/plain": [
       "'According to Information 0:\\n\\n- In the **Planning (Detailed) stage**, there is a review point: **2.2.1 Control project review at end of process**\\n- In the **Implementation stage**, there is a review point: **3.1.1 Construction Cost Control** and also **4.1.1 Analysis of Outturn Costs**\\n\\nThese are the key control points in the Capital Works Management Framework where project reviews are mandated during the Planning and Implementation stages.\\n\\nThis answer was generated using the text references on page(s): 16\\n\\nThis answer was generated using the image references on page(s): 16'"
      ]
     },
     "execution_count": 45,
     "metadata": {},
     "output_type": "execute_result"
    }
   ],
   "source": [
    "ans = answer(q, mcq=False)\n",
    "\n",
    "ans"
   ]
  },
  {
   "cell_type": "markdown",
   "id": "a3bc49f8-527c-4760-969e-683aa05a25be",
   "metadata": {},
   "source": [
    "# DEMO Output Step by Step"
   ]
  },
  {
   "cell_type": "code",
   "execution_count": 46,
   "id": "8f99224c-a28d-4b1d-a364-7378f2bdd69b",
   "metadata": {},
   "outputs": [],
   "source": [
    "q = \"What are the two main categories of public capital works projects mentioned in the manual?\""
   ]
  },
  {
   "cell_type": "code",
   "execution_count": 47,
   "id": "82122275-afc9-4ef4-8cfc-1f0ee4606922",
   "metadata": {},
   "outputs": [
    {
     "data": {
      "text/plain": [
       "['What are the two main categories of public capital works projects mentioned in the manual?']"
      ]
     },
     "execution_count": 47,
     "metadata": {},
     "output_type": "execute_result"
    }
   ],
   "source": [
    "qrs = reWriteExpander(q, mcq=False)\n",
    "qrs"
   ]
  },
  {
   "cell_type": "code",
   "execution_count": 48,
   "id": "796e46da-98a4-4b15-ad7a-1ff9dd4ffb94",
   "metadata": {},
   "outputs": [
    {
     "data": {
      "text/html": [
       "<div>\n",
       "<style scoped>\n",
       "    .dataframe tbody tr th:only-of-type {\n",
       "        vertical-align: middle;\n",
       "    }\n",
       "\n",
       "    .dataframe tbody tr th {\n",
       "        vertical-align: top;\n",
       "    }\n",
       "\n",
       "    .dataframe thead th {\n",
       "        text-align: right;\n",
       "    }\n",
       "</style>\n",
       "<table border=\"1\" class=\"dataframe\">\n",
       "  <thead>\n",
       "    <tr style=\"text-align: right;\">\n",
       "      <th></th>\n",
       "      <th>Chunks</th>\n",
       "      <th>PageNo</th>\n",
       "      <th>imagePath</th>\n",
       "      <th>embeddings</th>\n",
       "      <th>cosine_similarity</th>\n",
       "    </tr>\n",
       "  </thead>\n",
       "  <tbody>\n",
       "    <tr>\n",
       "      <th>0</th>\n",
       "      <td>The Capital  Works  Management  Framework is a...</td>\n",
       "      <td>16</td>\n",
       "      <td>NaN</td>\n",
       "      <td>[-0.039464130997657776, 0.001380482572130859, ...</td>\n",
       "      <td>0.723892</td>\n",
       "    </tr>\n",
       "    <tr>\n",
       "      <th>1</th>\n",
       "      <td>The image displays a structured diagram titled...</td>\n",
       "      <td>16</td>\n",
       "      <td>images\\page-16_img4.png</td>\n",
       "      <td>[0.020727336406707764, -0.014973741956055164, ...</td>\n",
       "      <td>0.721038</td>\n",
       "    </tr>\n",
       "    <tr>\n",
       "      <th>2</th>\n",
       "      <td>When approaching the question of the appropria...</td>\n",
       "      <td>46</td>\n",
       "      <td>NaN</td>\n",
       "      <td>[-0.007367652840912342, -0.03172290325164795, ...</td>\n",
       "      <td>0.720151</td>\n",
       "    </tr>\n",
       "    <tr>\n",
       "      <th>3</th>\n",
       "      <td>Building Works, CAPITAL WORKS MANAGEMENT FRAME...</td>\n",
       "      <td>18</td>\n",
       "      <td>NaN</td>\n",
       "      <td>[-0.015871873125433922, -0.02579466812312603, ...</td>\n",
       "      <td>0.716294</td>\n",
       "    </tr>\n",
       "    <tr>\n",
       "      <th>4</th>\n",
       "      <td>The Works Proposals are the following</td>\n",
       "      <td>222</td>\n",
       "      <td>NaN</td>\n",
       "      <td>[0.0034117044415324926, 0.0003231484442949295,...</td>\n",
       "      <td>0.711521</td>\n",
       "    </tr>\n",
       "  </tbody>\n",
       "</table>\n",
       "</div>"
      ],
      "text/plain": [
       "                                              Chunks  PageNo  \\\n",
       "0  The Capital  Works  Management  Framework is a...      16   \n",
       "1  The image displays a structured diagram titled...      16   \n",
       "2  When approaching the question of the appropria...      46   \n",
       "3  Building Works, CAPITAL WORKS MANAGEMENT FRAME...      18   \n",
       "4              The Works Proposals are the following     222   \n",
       "\n",
       "                 imagePath                                         embeddings  \\\n",
       "0                      NaN  [-0.039464130997657776, 0.001380482572130859, ...   \n",
       "1  images\\page-16_img4.png  [0.020727336406707764, -0.014973741956055164, ...   \n",
       "2                      NaN  [-0.007367652840912342, -0.03172290325164795, ...   \n",
       "3                      NaN  [-0.015871873125433922, -0.02579466812312603, ...   \n",
       "4                      NaN  [0.0034117044415324926, 0.0003231484442949295,...   \n",
       "\n",
       "   cosine_similarity  \n",
       "0           0.723892  \n",
       "1           0.721038  \n",
       "2           0.720151  \n",
       "3           0.716294  \n",
       "4           0.711521  "
      ]
     },
     "execution_count": 48,
     "metadata": {},
     "output_type": "execute_result"
    }
   ],
   "source": [
    "qdf = getTopN(qrs, n=10)\n",
    "\n",
    "qdf.head(5)"
   ]
  },
  {
   "cell_type": "code",
   "execution_count": 49,
   "id": "4ff28265-b473-44b6-a2d5-18841563c072",
   "metadata": {},
   "outputs": [
    {
     "data": {
      "text/html": [
       "<div>\n",
       "<style scoped>\n",
       "    .dataframe tbody tr th:only-of-type {\n",
       "        vertical-align: middle;\n",
       "    }\n",
       "\n",
       "    .dataframe tbody tr th {\n",
       "        vertical-align: top;\n",
       "    }\n",
       "\n",
       "    .dataframe thead th {\n",
       "        text-align: right;\n",
       "    }\n",
       "</style>\n",
       "<table border=\"1\" class=\"dataframe\">\n",
       "  <thead>\n",
       "    <tr style=\"text-align: right;\">\n",
       "      <th></th>\n",
       "      <th>Chunks</th>\n",
       "      <th>PageNo</th>\n",
       "      <th>imagePath</th>\n",
       "      <th>embeddings</th>\n",
       "      <th>cosine_similarity</th>\n",
       "      <th>rerank_score</th>\n",
       "    </tr>\n",
       "  </thead>\n",
       "  <tbody>\n",
       "    <tr>\n",
       "      <th>0</th>\n",
       "      <td>The Capital  Works  Management  Framework is a...</td>\n",
       "      <td>16</td>\n",
       "      <td>NaN</td>\n",
       "      <td>[-0.039464130997657776, 0.001380482572130859, ...</td>\n",
       "      <td>0.723892</td>\n",
       "      <td>0.756045</td>\n",
       "    </tr>\n",
       "  </tbody>\n",
       "</table>\n",
       "</div>"
      ],
      "text/plain": [
       "                                              Chunks  PageNo imagePath  \\\n",
       "0  The Capital  Works  Management  Framework is a...      16       NaN   \n",
       "\n",
       "                                          embeddings  cosine_similarity  \\\n",
       "0  [-0.039464130997657776, 0.001380482572130859, ...           0.723892   \n",
       "\n",
       "   rerank_score  \n",
       "0      0.756045  "
      ]
     },
     "execution_count": 49,
     "metadata": {},
     "output_type": "execute_result"
    }
   ],
   "source": [
    "qdf = reRank(q, qdf)\n",
    "texts = qdf[qdf[\"imagePath\"].isna()]\n",
    "imgs = qdf[qdf[\"imagePath\"].notna()]\n",
    "\n",
    "qdf.head(5)"
   ]
  },
  {
   "cell_type": "code",
   "execution_count": 50,
   "id": "56d8ed34-cd61-457c-9978-a633c574b90b",
   "metadata": {},
   "outputs": [
    {
     "name": "stdout",
     "output_type": "stream",
     "text": [
      "The two main categories of public capital works projects mentioned in the manual are:\n",
      "\n",
      "1. Civil Engineering Works\n",
      "2. Building Works\n",
      "\n",
      "This answer was generated using the text references on page(s): 16\n"
     ]
    }
   ],
   "source": [
    "llmInstructions = \"\"\"\n",
    "Using ONLY the provided information, answer the question.\\\n",
    "If the answer is not present in the information, reply with:\\\n",
    "\"Answer not in given information\"\n",
    "\"\"\"\n",
    "\n",
    "ans = getLLMAns(query=q, df=qdf, llmModelName=\"llama3.2\", llmInstructions=llmInstructions)\n",
    "\n",
    "# Reference building\n",
    "if len(texts) > 0:\n",
    "    # Page Numbers of all text references in a string\n",
    "    refs = [str(i) for i in texts[\"PageNo\"].tolist()]\n",
    "    refsCont = \", \".join(refs)\n",
    "    ans += f\"\\n\\nThis answer was generated using the text references on page(s): {refsCont}\"\n",
    "\n",
    "if len(imgs) > 0:\n",
    "    # Page Numbers of all image references in a string\n",
    "    refs = [str(i) for i in imgs[\"PageNo\"].tolist()]\n",
    "    refsCont = \", \".join(refs)\n",
    "    ans += f\"\\n\\nThis answer was generated using the image references on page(s): {refsCont}\"\n",
    "\n",
    "    # Optional output if passed by reference: URL String for links to all images\n",
    "    paths = imgs[\"imagePath\"].tolist()\n",
    "    urls = [i.replace(\"\\\\\", \"/\") for i in paths]  # Replace backslashes with forward slashes for URLs\n",
    "    html_links = [f'<a href=\"{url}\" target=\"_blank\">img-page{refs[i]}</a>' for i, url in enumerate(urls)]\n",
    "    html_output = \" \".join(html_links)\n",
    "\n",
    "print(ans)\n",
    "if len(imgs) > 0:\n",
    "    display(HTML(f\"\\nClick to view the images used: {html_output}\"))"
   ]
  },
  {
   "cell_type": "markdown",
   "id": "3ae748af-88b4-41c4-ae18-328da1f95e0c",
   "metadata": {},
   "source": [
    "## DEMO Output Pipeline"
   ]
  },
  {
   "cell_type": "code",
   "execution_count": 51,
   "id": "2c2ea9ee-71fb-4ff8-a676-aa8edaf198eb",
   "metadata": {},
   "outputs": [],
   "source": [
    "query = \"\""
   ]
  },
  {
   "cell_type": "code",
   "execution_count": 52,
   "id": "61e995a3-feff-474f-9c26-622d9160695a",
   "metadata": {},
   "outputs": [],
   "source": [
    "# Pass in optional list by reference to get htmlOutput for images\n",
    "htmlOut = []\n",
    "ans = answer(query, mcq=False, htmlOut=htmlOut)"
   ]
  },
  {
   "cell_type": "code",
   "execution_count": 53,
   "id": "9216fb1e-f8bc-48e8-8a98-b6a129319f13",
   "metadata": {},
   "outputs": [
    {
     "name": "stdout",
     "output_type": "stream",
     "text": [
      "Answer not in given information.\n"
     ]
    }
   ],
   "source": [
    "# Print for the LLM Generated response\n",
    "print(ans)\n",
    "# Display for the HTML Image Link if exists\n",
    "if len(htmlOut) > 0:\n",
    "    display(htmlOut[-1])"
   ]
  },
  {
   "cell_type": "code",
   "execution_count": null,
   "id": "b0b20a52-08ec-4267-a061-1a9b68069007",
   "metadata": {},
   "outputs": [],
   "source": []
  }
 ],
 "metadata": {
  "kernelspec": {
   "display_name": "Python 3 (ipykernel)",
   "language": "python",
   "name": "python3"
  },
  "language_info": {
   "codemirror_mode": {
    "name": "ipython",
    "version": 3
   },
   "file_extension": ".py",
   "mimetype": "text/x-python",
   "name": "python",
   "nbconvert_exporter": "python",
   "pygments_lexer": "ipython3",
   "version": "3.11.1"
  }
 },
 "nbformat": 4,
 "nbformat_minor": 5
}
